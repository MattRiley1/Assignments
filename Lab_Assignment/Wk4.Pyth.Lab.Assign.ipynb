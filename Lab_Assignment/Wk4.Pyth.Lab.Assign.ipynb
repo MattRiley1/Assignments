{
 "cells": [
  {
   "cell_type": "code",
   "execution_count": 5,
   "id": "50ca52f5-03a4-47c3-b12d-203b9521473e",
   "metadata": {},
   "outputs": [],
   "source": [
    "import pandas as pd\n",
    "import numpy as np\n",
    "import sqlite3\n",
    "import os"
   ]
  },
  {
   "cell_type": "code",
   "execution_count": 7,
   "id": "b6ad511b-8698-42cf-a24e-ccb3a14bc844",
   "metadata": {},
   "outputs": [
    {
     "name": "stdout",
     "output_type": "stream",
     "text": [
      "C:\\Users\\matth\\OneDrive\\Desktop\\Assignments\\Lab_Assignment\n"
     ]
    }
   ],
   "source": [
    "current_directory = os.getcwd()\n",
    "print(current_directory)"
   ]
  },
  {
   "cell_type": "code",
   "execution_count": 9,
   "id": "49fd0cf9-b429-4eac-8dbc-57e87a2ceb9a",
   "metadata": {},
   "outputs": [
    {
     "data": {
      "text/html": [
       "<div>\n",
       "<style scoped>\n",
       "    .dataframe tbody tr th:only-of-type {\n",
       "        vertical-align: middle;\n",
       "    }\n",
       "\n",
       "    .dataframe tbody tr th {\n",
       "        vertical-align: top;\n",
       "    }\n",
       "\n",
       "    .dataframe thead th {\n",
       "        text-align: right;\n",
       "    }\n",
       "</style>\n",
       "<table border=\"1\" class=\"dataframe\">\n",
       "  <thead>\n",
       "    <tr style=\"text-align: right;\">\n",
       "      <th></th>\n",
       "      <th>id</th>\n",
       "      <th>Student ID</th>\n",
       "      <th>student_name</th>\n",
       "      <th>gender</th>\n",
       "      <th>grade</th>\n",
       "      <th>school_name</th>\n",
       "      <th>reading_score</th>\n",
       "      <th>math_score</th>\n",
       "    </tr>\n",
       "  </thead>\n",
       "  <tbody>\n",
       "    <tr>\n",
       "      <th>0</th>\n",
       "      <td>0</td>\n",
       "      <td>0</td>\n",
       "      <td>Paul Bradley</td>\n",
       "      <td>M</td>\n",
       "      <td>9th</td>\n",
       "      <td>Huang High School</td>\n",
       "      <td>66</td>\n",
       "      <td>79</td>\n",
       "    </tr>\n",
       "    <tr>\n",
       "      <th>1</th>\n",
       "      <td>1</td>\n",
       "      <td>1</td>\n",
       "      <td>Victor Smith</td>\n",
       "      <td>M</td>\n",
       "      <td>12th</td>\n",
       "      <td>Huang High School</td>\n",
       "      <td>94</td>\n",
       "      <td>61</td>\n",
       "    </tr>\n",
       "    <tr>\n",
       "      <th>2</th>\n",
       "      <td>2</td>\n",
       "      <td>2</td>\n",
       "      <td>Kevin Rodriguez</td>\n",
       "      <td>M</td>\n",
       "      <td>12th</td>\n",
       "      <td>Huang High School</td>\n",
       "      <td>90</td>\n",
       "      <td>60</td>\n",
       "    </tr>\n",
       "    <tr>\n",
       "      <th>3</th>\n",
       "      <td>3</td>\n",
       "      <td>3</td>\n",
       "      <td>Dr. Richard Scott</td>\n",
       "      <td>M</td>\n",
       "      <td>12th</td>\n",
       "      <td>Huang High School</td>\n",
       "      <td>67</td>\n",
       "      <td>58</td>\n",
       "    </tr>\n",
       "    <tr>\n",
       "      <th>4</th>\n",
       "      <td>4</td>\n",
       "      <td>4</td>\n",
       "      <td>Bonnie Ray</td>\n",
       "      <td>F</td>\n",
       "      <td>9th</td>\n",
       "      <td>Huang High School</td>\n",
       "      <td>97</td>\n",
       "      <td>84</td>\n",
       "    </tr>\n",
       "    <tr>\n",
       "      <th>...</th>\n",
       "      <td>...</td>\n",
       "      <td>...</td>\n",
       "      <td>...</td>\n",
       "      <td>...</td>\n",
       "      <td>...</td>\n",
       "      <td>...</td>\n",
       "      <td>...</td>\n",
       "      <td>...</td>\n",
       "    </tr>\n",
       "    <tr>\n",
       "      <th>39165</th>\n",
       "      <td>39165</td>\n",
       "      <td>39165</td>\n",
       "      <td>Donna Howard</td>\n",
       "      <td>F</td>\n",
       "      <td>12th</td>\n",
       "      <td>Thomas High School</td>\n",
       "      <td>99</td>\n",
       "      <td>90</td>\n",
       "    </tr>\n",
       "    <tr>\n",
       "      <th>39166</th>\n",
       "      <td>39166</td>\n",
       "      <td>39166</td>\n",
       "      <td>Dawn Bell</td>\n",
       "      <td>F</td>\n",
       "      <td>10th</td>\n",
       "      <td>Thomas High School</td>\n",
       "      <td>95</td>\n",
       "      <td>70</td>\n",
       "    </tr>\n",
       "    <tr>\n",
       "      <th>39167</th>\n",
       "      <td>39167</td>\n",
       "      <td>39167</td>\n",
       "      <td>Rebecca Tanner</td>\n",
       "      <td>F</td>\n",
       "      <td>9th</td>\n",
       "      <td>Thomas High School</td>\n",
       "      <td>73</td>\n",
       "      <td>84</td>\n",
       "    </tr>\n",
       "    <tr>\n",
       "      <th>39168</th>\n",
       "      <td>39168</td>\n",
       "      <td>39168</td>\n",
       "      <td>Desiree Kidd</td>\n",
       "      <td>F</td>\n",
       "      <td>10th</td>\n",
       "      <td>Thomas High School</td>\n",
       "      <td>99</td>\n",
       "      <td>90</td>\n",
       "    </tr>\n",
       "    <tr>\n",
       "      <th>39169</th>\n",
       "      <td>39169</td>\n",
       "      <td>39169</td>\n",
       "      <td>Carolyn Jackson</td>\n",
       "      <td>F</td>\n",
       "      <td>11th</td>\n",
       "      <td>Thomas High School</td>\n",
       "      <td>95</td>\n",
       "      <td>75</td>\n",
       "    </tr>\n",
       "  </tbody>\n",
       "</table>\n",
       "<p>39170 rows × 8 columns</p>\n",
       "</div>"
      ],
      "text/plain": [
       "          id  Student ID       student_name gender grade         school_name  \\\n",
       "0          0           0       Paul Bradley      M   9th   Huang High School   \n",
       "1          1           1       Victor Smith      M  12th   Huang High School   \n",
       "2          2           2    Kevin Rodriguez      M  12th   Huang High School   \n",
       "3          3           3  Dr. Richard Scott      M  12th   Huang High School   \n",
       "4          4           4         Bonnie Ray      F   9th   Huang High School   \n",
       "...      ...         ...                ...    ...   ...                 ...   \n",
       "39165  39165       39165       Donna Howard      F  12th  Thomas High School   \n",
       "39166  39166       39166          Dawn Bell      F  10th  Thomas High School   \n",
       "39167  39167       39167     Rebecca Tanner      F   9th  Thomas High School   \n",
       "39168  39168       39168       Desiree Kidd      F  10th  Thomas High School   \n",
       "39169  39169       39169    Carolyn Jackson      F  11th  Thomas High School   \n",
       "\n",
       "       reading_score  math_score  \n",
       "0                 66          79  \n",
       "1                 94          61  \n",
       "2                 90          60  \n",
       "3                 67          58  \n",
       "4                 97          84  \n",
       "...              ...         ...  \n",
       "39165             99          90  \n",
       "39166             95          70  \n",
       "39167             73          84  \n",
       "39168             99          90  \n",
       "39169             95          75  \n",
       "\n",
       "[39170 rows x 8 columns]"
      ]
     },
     "execution_count": 9,
     "metadata": {},
     "output_type": "execute_result"
    }
   ],
   "source": [
    "con = sqlite3.connect(r'./data/python.db')\n",
    "\n",
    "school_data = pd.read_sql_query(\"SELECT * FROM school\", con)\n",
    "school_data\n",
    "student_data = pd.read_sql_query(\"SELECT * FROM student\", con)\n",
    "student_data"
   ]
  },
  {
   "cell_type": "code",
   "execution_count": 11,
   "id": "a858366a-4d0a-41f2-81d6-eea316331882",
   "metadata": {},
   "outputs": [
    {
     "data": {
      "text/html": [
       "<div>\n",
       "<style scoped>\n",
       "    .dataframe tbody tr th:only-of-type {\n",
       "        vertical-align: middle;\n",
       "    }\n",
       "\n",
       "    .dataframe tbody tr th {\n",
       "        vertical-align: top;\n",
       "    }\n",
       "\n",
       "    .dataframe thead th {\n",
       "        text-align: right;\n",
       "    }\n",
       "</style>\n",
       "<table border=\"1\" class=\"dataframe\">\n",
       "  <thead>\n",
       "    <tr style=\"text-align: right;\">\n",
       "      <th></th>\n",
       "      <th>id_x</th>\n",
       "      <th>Student ID</th>\n",
       "      <th>student_name</th>\n",
       "      <th>gender</th>\n",
       "      <th>grade</th>\n",
       "      <th>school_name</th>\n",
       "      <th>reading_score</th>\n",
       "      <th>math_score</th>\n",
       "      <th>id_y</th>\n",
       "      <th>School ID</th>\n",
       "      <th>type</th>\n",
       "      <th>size</th>\n",
       "      <th>budget</th>\n",
       "    </tr>\n",
       "  </thead>\n",
       "  <tbody>\n",
       "    <tr>\n",
       "      <th>0</th>\n",
       "      <td>0</td>\n",
       "      <td>0</td>\n",
       "      <td>Paul Bradley</td>\n",
       "      <td>M</td>\n",
       "      <td>9th</td>\n",
       "      <td>Huang High School</td>\n",
       "      <td>66</td>\n",
       "      <td>79</td>\n",
       "      <td>0</td>\n",
       "      <td>0</td>\n",
       "      <td>District</td>\n",
       "      <td>2917</td>\n",
       "      <td>1910635</td>\n",
       "    </tr>\n",
       "    <tr>\n",
       "      <th>1</th>\n",
       "      <td>1</td>\n",
       "      <td>1</td>\n",
       "      <td>Victor Smith</td>\n",
       "      <td>M</td>\n",
       "      <td>12th</td>\n",
       "      <td>Huang High School</td>\n",
       "      <td>94</td>\n",
       "      <td>61</td>\n",
       "      <td>0</td>\n",
       "      <td>0</td>\n",
       "      <td>District</td>\n",
       "      <td>2917</td>\n",
       "      <td>1910635</td>\n",
       "    </tr>\n",
       "    <tr>\n",
       "      <th>2</th>\n",
       "      <td>2</td>\n",
       "      <td>2</td>\n",
       "      <td>Kevin Rodriguez</td>\n",
       "      <td>M</td>\n",
       "      <td>12th</td>\n",
       "      <td>Huang High School</td>\n",
       "      <td>90</td>\n",
       "      <td>60</td>\n",
       "      <td>0</td>\n",
       "      <td>0</td>\n",
       "      <td>District</td>\n",
       "      <td>2917</td>\n",
       "      <td>1910635</td>\n",
       "    </tr>\n",
       "    <tr>\n",
       "      <th>3</th>\n",
       "      <td>3</td>\n",
       "      <td>3</td>\n",
       "      <td>Dr. Richard Scott</td>\n",
       "      <td>M</td>\n",
       "      <td>12th</td>\n",
       "      <td>Huang High School</td>\n",
       "      <td>67</td>\n",
       "      <td>58</td>\n",
       "      <td>0</td>\n",
       "      <td>0</td>\n",
       "      <td>District</td>\n",
       "      <td>2917</td>\n",
       "      <td>1910635</td>\n",
       "    </tr>\n",
       "    <tr>\n",
       "      <th>4</th>\n",
       "      <td>4</td>\n",
       "      <td>4</td>\n",
       "      <td>Bonnie Ray</td>\n",
       "      <td>F</td>\n",
       "      <td>9th</td>\n",
       "      <td>Huang High School</td>\n",
       "      <td>97</td>\n",
       "      <td>84</td>\n",
       "      <td>0</td>\n",
       "      <td>0</td>\n",
       "      <td>District</td>\n",
       "      <td>2917</td>\n",
       "      <td>1910635</td>\n",
       "    </tr>\n",
       "  </tbody>\n",
       "</table>\n",
       "</div>"
      ],
      "text/plain": [
       "   id_x  Student ID       student_name gender grade        school_name  \\\n",
       "0     0           0       Paul Bradley      M   9th  Huang High School   \n",
       "1     1           1       Victor Smith      M  12th  Huang High School   \n",
       "2     2           2    Kevin Rodriguez      M  12th  Huang High School   \n",
       "3     3           3  Dr. Richard Scott      M  12th  Huang High School   \n",
       "4     4           4         Bonnie Ray      F   9th  Huang High School   \n",
       "\n",
       "   reading_score  math_score  id_y  School ID      type  size   budget  \n",
       "0             66          79     0          0  District  2917  1910635  \n",
       "1             94          61     0          0  District  2917  1910635  \n",
       "2             90          60     0          0  District  2917  1910635  \n",
       "3             67          58     0          0  District  2917  1910635  \n",
       "4             97          84     0          0  District  2917  1910635  "
      ]
     },
     "execution_count": 11,
     "metadata": {},
     "output_type": "execute_result"
    }
   ],
   "source": [
    "# join the two tables into a single dataframe\n",
    "school_data_complete = pd.merge(student_data, school_data, how=\"left\", on=[\"school_name\", \"school_name\"])\n",
    "school_data_complete.head()"
   ]
  },
  {
   "cell_type": "code",
   "execution_count": 13,
   "id": "76dc74f1-76c6-46fe-b8b5-ff20e44231b0",
   "metadata": {},
   "outputs": [],
   "source": [
    "# Total number of schools\n",
    "total_schools = school_data[\"school_name\"].nunique()\n",
    "\n",
    "# Total number of students\n",
    "total_students = student_data[\"Student ID\"].count()\n",
    "\n",
    "# Total budget (sum of all school budgets)\n",
    "total_budget = school_data[\"budget\"].sum()\n",
    "\n",
    "# Average math score\n",
    "average_math_score = student_data[\"math_score\"].mean()\n",
    "\n",
    "# Average reading score\n",
    "average_reading_score = student_data[\"reading_score\"].mean()\n",
    "\n",
    "# Overall average score\n",
    "overall_average_score = (average_math_score + average_reading_score) / 2\n",
    "\n",
    "# Percentage of students passing math (70 or greater)\n",
    "passing_math_percentage = (student_data[\"math_score\"] >= 70).mean() * 100\n"
   ]
  },
  {
   "cell_type": "code",
   "execution_count": 15,
   "id": "14666b80-85f1-4d0c-8c92-098b4ab7805a",
   "metadata": {},
   "outputs": [
    {
     "data": {
      "text/html": [
       "<div>\n",
       "<style scoped>\n",
       "    .dataframe tbody tr th:only-of-type {\n",
       "        vertical-align: middle;\n",
       "    }\n",
       "\n",
       "    .dataframe tbody tr th {\n",
       "        vertical-align: top;\n",
       "    }\n",
       "\n",
       "    .dataframe thead th {\n",
       "        text-align: right;\n",
       "    }\n",
       "</style>\n",
       "<table border=\"1\" class=\"dataframe\">\n",
       "  <thead>\n",
       "    <tr style=\"text-align: right;\">\n",
       "      <th></th>\n",
       "      <th>Total Schools</th>\n",
       "      <th>Total Students</th>\n",
       "      <th>Total Budget</th>\n",
       "      <th>Average Math Score</th>\n",
       "      <th>Average Reading Score</th>\n",
       "      <th>Overall Average Score</th>\n",
       "      <th>% Passing Math</th>\n",
       "    </tr>\n",
       "  </thead>\n",
       "  <tbody>\n",
       "    <tr>\n",
       "      <th>0</th>\n",
       "      <td>15</td>\n",
       "      <td>39170</td>\n",
       "      <td>24649428</td>\n",
       "      <td>78.985371</td>\n",
       "      <td>81.87784</td>\n",
       "      <td>80.431606</td>\n",
       "      <td>74.980853</td>\n",
       "    </tr>\n",
       "  </tbody>\n",
       "</table>\n",
       "</div>"
      ],
      "text/plain": [
       "   Total Schools  Total Students  Total Budget  Average Math Score  \\\n",
       "0             15           39170      24649428           78.985371   \n",
       "\n",
       "   Average Reading Score  Overall Average Score  % Passing Math  \n",
       "0               81.87784              80.431606       74.980853  "
      ]
     },
     "execution_count": 15,
     "metadata": {},
     "output_type": "execute_result"
    }
   ],
   "source": [
    "# Create a District Summary\n",
    "district_summary = pd.DataFrame({\n",
    "    \"Total Schools\": [total_schools],\n",
    "    \"Total Students\": [total_students],\n",
    "    \"Total Budget\": [total_budget],\n",
    "    \"Average Math Score\": [average_math_score],\n",
    "    \"Average Reading Score\": [average_reading_score],\n",
    "    \"Overall Average Score\": [overall_average_score],\n",
    "    \"% Passing Math\": [passing_math_percentage]\n",
    "})\n",
    "\n",
    "# Display the district summary\n",
    "district_summary\n"
   ]
  },
  {
   "cell_type": "code",
   "execution_count": 17,
   "id": "2f25fa1d-b2ac-4599-a2a0-7cac3f9a182c",
   "metadata": {},
   "outputs": [
    {
     "name": "stdout",
     "output_type": "stream",
     "text": [
      "15\n"
     ]
    }
   ],
   "source": [
    "# Total number of schools\n",
    "total_schools = school_data[\"school_name\"].nunique()\n",
    "print(total_schools)"
   ]
  },
  {
   "cell_type": "code",
   "execution_count": 19,
   "id": "97153530-c0a2-4514-97ff-c681388b6e34",
   "metadata": {},
   "outputs": [
    {
     "name": "stdout",
     "output_type": "stream",
     "text": [
      "39170\n"
     ]
    }
   ],
   "source": [
    "# Total number of students\n",
    "total_students = student_data[\"Student ID\"].nunique()\n",
    "print(total_students)"
   ]
  },
  {
   "cell_type": "code",
   "execution_count": 21,
   "id": "70c627c4-257f-4917-bcab-309e85f101b7",
   "metadata": {},
   "outputs": [
    {
     "name": "stdout",
     "output_type": "stream",
     "text": [
      "24649428\n"
     ]
    }
   ],
   "source": [
    "# Total budget\n",
    "total_budget = school_data[\"budget\"].sum()\n",
    "print(total_budget)"
   ]
  },
  {
   "cell_type": "code",
   "execution_count": 23,
   "id": "3cac5a51-44e9-4a72-952a-d6b55d4de6dc",
   "metadata": {},
   "outputs": [
    {
     "name": "stdout",
     "output_type": "stream",
     "text": [
      "78.98537145774827\n"
     ]
    }
   ],
   "source": [
    "# Average math score\n",
    "average_math_score = student_data[\"math_score\"].mean()\n",
    "print(average_math_score)"
   ]
  },
  {
   "cell_type": "code",
   "execution_count": 25,
   "id": "6beafef5-5c3d-4553-af17-1d7d3ff4ce76",
   "metadata": {},
   "outputs": [
    {
     "name": "stdout",
     "output_type": "stream",
     "text": [
      "81.87784018381414\n"
     ]
    }
   ],
   "source": [
    "# Average reading score\n",
    "average_reading_score = student_data[\"reading_score\"].mean()\n",
    "print(average_reading_score)"
   ]
  },
  {
   "cell_type": "code",
   "execution_count": 27,
   "id": "6fb4ed36-81ca-4eb2-93bb-5e84372711d8",
   "metadata": {},
   "outputs": [
    {
     "name": "stdout",
     "output_type": "stream",
     "text": [
      "80.43160582078121\n"
     ]
    }
   ],
   "source": [
    "# Overall average score\n",
    "overall_average_score = (student_data[\"math_score\"].mean() + student_data[\"reading_score\"].mean()) / 2\n",
    "print(overall_average_score)"
   ]
  },
  {
   "cell_type": "code",
   "execution_count": 29,
   "id": "6dd329c6-aa73-4d31-8d6b-46a3d04fda6c",
   "metadata": {},
   "outputs": [
    {
     "name": "stdout",
     "output_type": "stream",
     "text": [
      "74.9808526933878\n"
     ]
    }
   ],
   "source": [
    "# Percentage of passing math (70 or greater)\n",
    "passing_math_percentage = (student_data[student_data[\"math_score\"] >= 70][\"Student ID\"].count() / total_students) * 100\n",
    "print(passing_math_percentage)"
   ]
  },
  {
   "cell_type": "code",
   "execution_count": 31,
   "id": "4bf4a8b1-2e29-4891-bf4b-b7df0837f0b3",
   "metadata": {},
   "outputs": [
    {
     "name": "stdout",
     "output_type": "stream",
     "text": [
      "85.80546336482001\n"
     ]
    }
   ],
   "source": [
    "# percentage of passing reading (70 or greater)\n",
    "passing_reading_percentage = (student_data[student_data[\"reading_score\"] >= 70][\"Student ID\"].count() / total_students) * 100\n",
    "print(passing_reading_percentage)"
   ]
  },
  {
   "cell_type": "code",
   "execution_count": 51,
   "id": "c3219d66-4b85-4444-8d79-bce3364c31c6",
   "metadata": {},
   "outputs": [
    {
     "data": {
      "text/html": [
       "<div>\n",
       "<style scoped>\n",
       "    .dataframe tbody tr th:only-of-type {\n",
       "        vertical-align: middle;\n",
       "    }\n",
       "\n",
       "    .dataframe tbody tr th {\n",
       "        vertical-align: top;\n",
       "    }\n",
       "\n",
       "    .dataframe thead th {\n",
       "        text-align: right;\n",
       "    }\n",
       "</style>\n",
       "<table border=\"1\" class=\"dataframe\">\n",
       "  <thead>\n",
       "    <tr style=\"text-align: right;\">\n",
       "      <th></th>\n",
       "      <th>School Type</th>\n",
       "      <th>Total Students</th>\n",
       "      <th>Total School Budget</th>\n",
       "      <th>Per Student Budget</th>\n",
       "      <th>Average Math Score</th>\n",
       "      <th>Average Reading Score</th>\n",
       "      <th>% Passing Math</th>\n",
       "      <th>% Passing Reading</th>\n",
       "      <th>% Overall Passing</th>\n",
       "    </tr>\n",
       "    <tr>\n",
       "      <th>school_name</th>\n",
       "      <th></th>\n",
       "      <th></th>\n",
       "      <th></th>\n",
       "      <th></th>\n",
       "      <th></th>\n",
       "      <th></th>\n",
       "      <th></th>\n",
       "      <th></th>\n",
       "      <th></th>\n",
       "    </tr>\n",
       "  </thead>\n",
       "  <tbody>\n",
       "    <tr>\n",
       "      <th>Cabrera High School</th>\n",
       "      <td>Charter</td>\n",
       "      <td>1858</td>\n",
       "      <td>1081356.0</td>\n",
       "      <td>582.0</td>\n",
       "      <td>83.061895</td>\n",
       "      <td>83.975780</td>\n",
       "      <td>94.133477</td>\n",
       "      <td>97.039828</td>\n",
       "      <td>95.586652</td>\n",
       "    </tr>\n",
       "    <tr>\n",
       "      <th>Thomas High School</th>\n",
       "      <td>Charter</td>\n",
       "      <td>1635</td>\n",
       "      <td>1043130.0</td>\n",
       "      <td>638.0</td>\n",
       "      <td>83.418349</td>\n",
       "      <td>83.848930</td>\n",
       "      <td>93.272171</td>\n",
       "      <td>97.308869</td>\n",
       "      <td>95.290520</td>\n",
       "    </tr>\n",
       "    <tr>\n",
       "      <th>Pena High School</th>\n",
       "      <td>Charter</td>\n",
       "      <td>962</td>\n",
       "      <td>585858.0</td>\n",
       "      <td>609.0</td>\n",
       "      <td>83.839917</td>\n",
       "      <td>84.044699</td>\n",
       "      <td>94.594595</td>\n",
       "      <td>95.945946</td>\n",
       "      <td>95.270270</td>\n",
       "    </tr>\n",
       "    <tr>\n",
       "      <th>Griffin High School</th>\n",
       "      <td>Charter</td>\n",
       "      <td>1468</td>\n",
       "      <td>917500.0</td>\n",
       "      <td>625.0</td>\n",
       "      <td>83.351499</td>\n",
       "      <td>83.816757</td>\n",
       "      <td>93.392371</td>\n",
       "      <td>97.138965</td>\n",
       "      <td>95.265668</td>\n",
       "    </tr>\n",
       "    <tr>\n",
       "      <th>Wilson High School</th>\n",
       "      <td>Charter</td>\n",
       "      <td>2283</td>\n",
       "      <td>1319574.0</td>\n",
       "      <td>578.0</td>\n",
       "      <td>83.274201</td>\n",
       "      <td>83.989488</td>\n",
       "      <td>93.867718</td>\n",
       "      <td>96.539641</td>\n",
       "      <td>95.203679</td>\n",
       "    </tr>\n",
       "  </tbody>\n",
       "</table>\n",
       "</div>"
      ],
      "text/plain": [
       "                    School Type  Total Students  Total School Budget  \\\n",
       "school_name                                                            \n",
       "Cabrera High School     Charter            1858            1081356.0   \n",
       "Thomas High School      Charter            1635            1043130.0   \n",
       "Pena High School        Charter             962             585858.0   \n",
       "Griffin High School     Charter            1468             917500.0   \n",
       "Wilson High School      Charter            2283            1319574.0   \n",
       "\n",
       "                     Per Student Budget  Average Math Score  \\\n",
       "school_name                                                   \n",
       "Cabrera High School               582.0           83.061895   \n",
       "Thomas High School                638.0           83.418349   \n",
       "Pena High School                  609.0           83.839917   \n",
       "Griffin High School               625.0           83.351499   \n",
       "Wilson High School                578.0           83.274201   \n",
       "\n",
       "                     Average Reading Score  % Passing Math  % Passing Reading  \\\n",
       "school_name                                                                     \n",
       "Cabrera High School              83.975780       94.133477          97.039828   \n",
       "Thomas High School               83.848930       93.272171          97.308869   \n",
       "Pena High School                 84.044699       94.594595          95.945946   \n",
       "Griffin High School              83.816757       93.392371          97.138965   \n",
       "Wilson High School               83.989488       93.867718          96.539641   \n",
       "\n",
       "                     % Overall Passing  \n",
       "school_name                             \n",
       "Cabrera High School          95.586652  \n",
       "Thomas High School           95.290520  \n",
       "Pena High School             95.270270  \n",
       "Griffin High School          95.265668  \n",
       "Wilson High School           95.203679  "
      ]
     },
     "execution_count": 51,
     "metadata": {},
     "output_type": "execute_result"
    }
   ],
   "source": [
    "# Group by school name\n",
    "school_grouped = school_data_complete.groupby(\"school_name\")\n",
    "\n",
    "# Calculate total students per school\n",
    "per_school_counts = school_grouped[\"Student ID\"].count()\n",
    "\n",
    "# Calculate total school budget and per student budget\n",
    "per_school_budget = school_grouped[\"budget\"].mean()\n",
    "per_student_budget = per_school_budget / per_school_counts\n",
    "\n",
    "# Calculate average math and reading scores\n",
    "per_school_math = school_grouped[\"math_score\"].mean()\n",
    "per_school_reading = school_grouped[\"reading_score\"].mean()\n",
    "\n",
    "# Calculate % passing math\n",
    "passing_math = school_data_complete[school_data_complete[\"math_score\"] >= 70]\n",
    "per_school_passing_math = passing_math.groupby(\"school_name\")[\"Student ID\"].count() / per_school_counts * 100\n",
    "\n",
    "# Calculate % passing reading\n",
    "passing_reading = school_data_complete[school_data_complete[\"reading_score\"] >= 70]\n",
    "per_school_passing_reading = passing_reading.groupby(\"school_name\")[\"Student ID\"].count() / per_school_counts * 100\n",
    "\n",
    "\n",
    "# Calculate % overall passing as the average of math and reading passing rates\n",
    "per_school_overall_passing = (per_school_passing_math + per_school_passing_reading) / 2\n",
    "\n",
    "\n",
    "# Build school summary DataFrame\n",
    "school_summary = pd.DataFrame({\n",
    "    \"School Type\": school_grouped[\"type\"].first(),\n",
    "    \"Total Students\": per_school_counts,\n",
    "    \"Total School Budget\": per_school_budget,\n",
    "    \"Per Student Budget\": per_student_budget,\n",
    "    \"Average Math Score\": per_school_math,\n",
    "    \"Average Reading Score\": per_school_reading,\n",
    "    \"% Passing Math\": per_school_passing_math,\n",
    "    \"% Passing Reading\": per_school_passing_reading,\n",
    "    \"% Overall Passing\": per_school_overall_passing\n",
    "})\n",
    "\n",
    "# Show the first few rows\n",
    "top_5_schools = school_summary.sort_values(by=\"% Overall Passing\", ascending=False).head(5)\n",
    "top_5_schools\n"
   ]
  },
  {
   "cell_type": "code",
   "execution_count": 53,
   "id": "f29a1424-5a10-4d84-80ab-4355e9035cf2",
   "metadata": {},
   "outputs": [
    {
     "data": {
      "text/plain": [
       "39170"
      ]
     },
     "execution_count": 53,
     "metadata": {},
     "output_type": "execute_result"
    }
   ],
   "source": [
    "# Find the total counts of math result\n",
    "math_total_counts = school_data_complete[\"math_score\"].count()\n",
    "math_total_counts"
   ]
  },
  {
   "cell_type": "code",
   "execution_count": 55,
   "id": "d81896a1-bc5c-4e0e-9571-86c68f7ebb85",
   "metadata": {},
   "outputs": [
    {
     "data": {
      "text/plain": [
       "school_name\n",
       "Bailey High School       3318\n",
       "Cabrera High School      1749\n",
       "Figueroa High School     1946\n",
       "Ford High School         1871\n",
       "Griffin High School      1371\n",
       "Hernandez High School    3094\n",
       "Holden High School        395\n",
       "Huang High School        1916\n",
       "Johnson High School      3145\n",
       "Pena High School          910\n",
       "Rodriguez High School    2654\n",
       "Shelton High School      1653\n",
       "Thomas High School       1525\n",
       "Wilson High School       2143\n",
       "Wright High School       1680\n",
       "Name: math_score, dtype: int64"
      ]
     },
     "execution_count": 55,
     "metadata": {},
     "output_type": "execute_result"
    }
   ],
   "source": [
    "# Find the counts for math result in each school that pass 70 or higher\n",
    "passing_math_counts = school_data_complete[school_data_complete[\"math_score\"] >= 70].groupby(\"school_name\")[\"math_score\"].count()\n",
    "passing_math_counts"
   ]
  },
  {
   "cell_type": "code",
   "execution_count": 57,
   "id": "610e094e-c686-48c2-bcb2-5e16da9aed0f",
   "metadata": {},
   "outputs": [
    {
     "data": {
      "text/plain": [
       "school_name\n",
       "Bailey High School       66.680064\n",
       "Cabrera High School      94.133477\n",
       "Figueroa High School     65.988471\n",
       "Ford High School         68.309602\n",
       "Griffin High School      93.392371\n",
       "Hernandez High School    66.752967\n",
       "Holden High School       92.505855\n",
       "Huang High School        65.683922\n",
       "Johnson High School      66.057551\n",
       "Pena High School         94.594595\n",
       "Rodriguez High School    66.366592\n",
       "Shelton High School      93.867121\n",
       "Thomas High School       93.272171\n",
       "Wilson High School       93.867718\n",
       "Wright High School       93.333333\n",
       "Name: math_score, dtype: float64"
      ]
     },
     "execution_count": 57,
     "metadata": {},
     "output_type": "execute_result"
    }
   ],
   "source": [
    "# Calculate the math passing rate\n",
    "per_school_math_count = school_data_complete.groupby(\"school_name\")[\"math_score\"].count()\n",
    "math_pass_rate = (passing_math_counts / per_school_math_count) * 100\n",
    "math_pass_rate"
   ]
  },
  {
   "cell_type": "code",
   "execution_count": 43,
   "id": "f3e299aa-cb94-4306-855b-0321e590cf98",
   "metadata": {},
   "outputs": [
    {
     "data": {
      "text/plain": [
       "39170"
      ]
     },
     "execution_count": 43,
     "metadata": {},
     "output_type": "execute_result"
    }
   ],
   "source": [
    "# Find the total counts of read result\n",
    "read_total_counts = school_data_complete[\"reading_score\"].count()\n",
    "read_total_counts"
   ]
  },
  {
   "cell_type": "code",
   "execution_count": 45,
   "id": "324c271f-6e0e-42d9-ac61-7fe398abcfbb",
   "metadata": {},
   "outputs": [
    {
     "data": {
      "text/plain": [
       "school_name\n",
       "Bailey High School       4077\n",
       "Cabrera High School      1803\n",
       "Figueroa High School     2381\n",
       "Ford High School         2172\n",
       "Griffin High School      1426\n",
       "Hernandez High School    3748\n",
       "Holden High School        411\n",
       "Huang High School        2372\n",
       "Johnson High School      3867\n",
       "Pena High School          923\n",
       "Rodriguez High School    3208\n",
       "Shelton High School      1688\n",
       "Thomas High School       1591\n",
       "Wilson High School       2204\n",
       "Wright High School       1739\n",
       "Name: reading_score, dtype: int64"
      ]
     },
     "execution_count": 45,
     "metadata": {},
     "output_type": "execute_result"
    }
   ],
   "source": [
    "# Find the counts for read result in each school that pass 70 or higher\n",
    "passing_read_counts = school_data_complete[school_data_complete[\"reading_score\"] >= 70].groupby(\"school_name\")[\"reading_score\"].count()\n",
    "passing_read_counts"
   ]
  },
  {
   "cell_type": "code",
   "execution_count": 47,
   "id": "f4d1cfc2-f188-4870-8c81-bf10f4daf113",
   "metadata": {},
   "outputs": [
    {
     "data": {
      "text/plain": [
       "school_name\n",
       "Bailey High School       81.933280\n",
       "Cabrera High School      97.039828\n",
       "Figueroa High School     80.739234\n",
       "Ford High School         79.299014\n",
       "Griffin High School      97.138965\n",
       "Hernandez High School    80.862999\n",
       "Holden High School       96.252927\n",
       "Huang High School        81.316421\n",
       "Johnson High School      81.222432\n",
       "Pena High School         95.945946\n",
       "Rodriguez High School    80.220055\n",
       "Shelton High School      95.854628\n",
       "Thomas High School       97.308869\n",
       "Wilson High School       96.539641\n",
       "Wright High School       96.611111\n",
       "Name: reading_score, dtype: float64"
      ]
     },
     "execution_count": 47,
     "metadata": {},
     "output_type": "execute_result"
    }
   ],
   "source": [
    "# Calculate the read passing rate\n",
    "per_school_read_count = school_data_complete.groupby(\"school_name\")[\"reading_score\"].count()\n",
    "read_pass_rate = (passing_read_counts / per_school_read_count) * 100\n",
    "read_pass_rate"
   ]
  },
  {
   "cell_type": "code",
   "execution_count": 49,
   "id": "737e0578-4f2d-4ddf-89a7-be4cee16c29a",
   "metadata": {},
   "outputs": [
    {
     "data": {
      "text/plain": [
       "school_name\n",
       "Bailey High School       74.306672\n",
       "Cabrera High School      95.586652\n",
       "Figueroa High School     73.363852\n",
       "Ford High School         73.804308\n",
       "Griffin High School      95.265668\n",
       "Hernandez High School    73.807983\n",
       "Holden High School       94.379391\n",
       "Huang High School        73.500171\n",
       "Johnson High School      73.639992\n",
       "Pena High School         95.270270\n",
       "Rodriguez High School    73.293323\n",
       "Shelton High School      94.860875\n",
       "Thomas High School       95.290520\n",
       "Wilson High School       95.203679\n",
       "Wright High School       94.972222\n",
       "dtype: float64"
      ]
     },
     "execution_count": 49,
     "metadata": {},
     "output_type": "execute_result"
    }
   ],
   "source": [
    "# Calculate the overall passing rate (average of the math and reading passing rate)\n",
    "overall_pass_rate = (math_pass_rate + read_pass_rate) / 2\n",
    "overall_pass_rate\n"
   ]
  },
  {
   "cell_type": "code",
   "execution_count": 61,
   "id": "49f2ac10-5745-4cf7-b57e-2cb1a4e93cb0",
   "metadata": {},
   "outputs": [
    {
     "data": {
      "text/plain": [
       "school_name\n",
       "Rodriguez High School    73.293323\n",
       "Figueroa High School     73.363852\n",
       "Huang High School        73.500171\n",
       "Johnson High School      73.639992\n",
       "Ford High School         73.804308\n",
       "dtype: float64"
      ]
     },
     "execution_count": 61,
     "metadata": {},
     "output_type": "execute_result"
    }
   ],
   "source": [
    "# Sort and display the worst five schools in overall passing rate\n",
    "worst_5_schools = overall_pass_rate.sort_values(ascending=True).head(5)\n",
    "worst_5_schools\n"
   ]
  },
  {
   "cell_type": "code",
   "execution_count": 63,
   "id": "afc2f290-1bae-4555-8dc2-6721cd1bc2c9",
   "metadata": {},
   "outputs": [
    {
     "data": {
      "text/html": [
       "<div>\n",
       "<style scoped>\n",
       "    .dataframe tbody tr th:only-of-type {\n",
       "        vertical-align: middle;\n",
       "    }\n",
       "\n",
       "    .dataframe tbody tr th {\n",
       "        vertical-align: top;\n",
       "    }\n",
       "\n",
       "    .dataframe thead th {\n",
       "        text-align: right;\n",
       "    }\n",
       "</style>\n",
       "<table border=\"1\" class=\"dataframe\">\n",
       "  <thead>\n",
       "    <tr style=\"text-align: right;\">\n",
       "      <th>grade</th>\n",
       "      <th>10th</th>\n",
       "      <th>11th</th>\n",
       "      <th>12th</th>\n",
       "      <th>9th</th>\n",
       "    </tr>\n",
       "    <tr>\n",
       "      <th>school_name</th>\n",
       "      <th></th>\n",
       "      <th></th>\n",
       "      <th></th>\n",
       "      <th></th>\n",
       "    </tr>\n",
       "  </thead>\n",
       "  <tbody>\n",
       "    <tr>\n",
       "      <th>Bailey High School</th>\n",
       "      <td>76.996772</td>\n",
       "      <td>77.515588</td>\n",
       "      <td>76.492218</td>\n",
       "      <td>77.083676</td>\n",
       "    </tr>\n",
       "    <tr>\n",
       "      <th>Cabrera High School</th>\n",
       "      <td>83.154506</td>\n",
       "      <td>82.765560</td>\n",
       "      <td>83.277487</td>\n",
       "      <td>83.094697</td>\n",
       "    </tr>\n",
       "    <tr>\n",
       "      <th>Figueroa High School</th>\n",
       "      <td>76.539974</td>\n",
       "      <td>76.884344</td>\n",
       "      <td>77.151369</td>\n",
       "      <td>76.403037</td>\n",
       "    </tr>\n",
       "    <tr>\n",
       "      <th>Ford High School</th>\n",
       "      <td>77.672316</td>\n",
       "      <td>76.918058</td>\n",
       "      <td>76.179963</td>\n",
       "      <td>77.361345</td>\n",
       "    </tr>\n",
       "    <tr>\n",
       "      <th>Griffin High School</th>\n",
       "      <td>84.229064</td>\n",
       "      <td>83.842105</td>\n",
       "      <td>83.356164</td>\n",
       "      <td>82.044010</td>\n",
       "    </tr>\n",
       "    <tr>\n",
       "      <th>Hernandez High School</th>\n",
       "      <td>77.337408</td>\n",
       "      <td>77.136029</td>\n",
       "      <td>77.186567</td>\n",
       "      <td>77.438495</td>\n",
       "    </tr>\n",
       "    <tr>\n",
       "      <th>Holden High School</th>\n",
       "      <td>83.429825</td>\n",
       "      <td>85.000000</td>\n",
       "      <td>82.855422</td>\n",
       "      <td>83.787402</td>\n",
       "    </tr>\n",
       "    <tr>\n",
       "      <th>Huang High School</th>\n",
       "      <td>75.908735</td>\n",
       "      <td>76.446602</td>\n",
       "      <td>77.225641</td>\n",
       "      <td>77.027251</td>\n",
       "    </tr>\n",
       "    <tr>\n",
       "      <th>Johnson High School</th>\n",
       "      <td>76.691117</td>\n",
       "      <td>77.491653</td>\n",
       "      <td>76.863248</td>\n",
       "      <td>77.187857</td>\n",
       "    </tr>\n",
       "    <tr>\n",
       "      <th>Pena High School</th>\n",
       "      <td>83.372000</td>\n",
       "      <td>84.328125</td>\n",
       "      <td>84.121547</td>\n",
       "      <td>83.625455</td>\n",
       "    </tr>\n",
       "    <tr>\n",
       "      <th>Rodriguez High School</th>\n",
       "      <td>76.612500</td>\n",
       "      <td>76.395626</td>\n",
       "      <td>77.690748</td>\n",
       "      <td>76.859966</td>\n",
       "    </tr>\n",
       "    <tr>\n",
       "      <th>Shelton High School</th>\n",
       "      <td>82.917411</td>\n",
       "      <td>83.383495</td>\n",
       "      <td>83.778976</td>\n",
       "      <td>83.420755</td>\n",
       "    </tr>\n",
       "    <tr>\n",
       "      <th>Thomas High School</th>\n",
       "      <td>83.087886</td>\n",
       "      <td>83.498795</td>\n",
       "      <td>83.497041</td>\n",
       "      <td>83.590022</td>\n",
       "    </tr>\n",
       "    <tr>\n",
       "      <th>Wilson High School</th>\n",
       "      <td>83.724422</td>\n",
       "      <td>83.195326</td>\n",
       "      <td>83.035794</td>\n",
       "      <td>83.085578</td>\n",
       "    </tr>\n",
       "    <tr>\n",
       "      <th>Wright High School</th>\n",
       "      <td>84.010288</td>\n",
       "      <td>83.836782</td>\n",
       "      <td>83.644986</td>\n",
       "      <td>83.264706</td>\n",
       "    </tr>\n",
       "  </tbody>\n",
       "</table>\n",
       "</div>"
      ],
      "text/plain": [
       "grade                       10th       11th       12th        9th\n",
       "school_name                                                      \n",
       "Bailey High School     76.996772  77.515588  76.492218  77.083676\n",
       "Cabrera High School    83.154506  82.765560  83.277487  83.094697\n",
       "Figueroa High School   76.539974  76.884344  77.151369  76.403037\n",
       "Ford High School       77.672316  76.918058  76.179963  77.361345\n",
       "Griffin High School    84.229064  83.842105  83.356164  82.044010\n",
       "Hernandez High School  77.337408  77.136029  77.186567  77.438495\n",
       "Holden High School     83.429825  85.000000  82.855422  83.787402\n",
       "Huang High School      75.908735  76.446602  77.225641  77.027251\n",
       "Johnson High School    76.691117  77.491653  76.863248  77.187857\n",
       "Pena High School       83.372000  84.328125  84.121547  83.625455\n",
       "Rodriguez High School  76.612500  76.395626  77.690748  76.859966\n",
       "Shelton High School    82.917411  83.383495  83.778976  83.420755\n",
       "Thomas High School     83.087886  83.498795  83.497041  83.590022\n",
       "Wilson High School     83.724422  83.195326  83.035794  83.085578\n",
       "Wright High School     84.010288  83.836782  83.644986  83.264706"
      ]
     },
     "execution_count": 63,
     "metadata": {},
     "output_type": "execute_result"
    }
   ],
   "source": [
    "# Create table that lists the average math score for each school of each grade level\n",
    "math_by_grade = school_data_complete.pivot_table(index=\"school_name\", columns=\"grade\", values=\"math_score\")\n",
    "math_by_grade"
   ]
  },
  {
   "cell_type": "code",
   "execution_count": 65,
   "id": "22cc807f-d7ab-4012-af5a-8badca3896f6",
   "metadata": {},
   "outputs": [
    {
     "data": {
      "text/html": [
       "<div>\n",
       "<style scoped>\n",
       "    .dataframe tbody tr th:only-of-type {\n",
       "        vertical-align: middle;\n",
       "    }\n",
       "\n",
       "    .dataframe tbody tr th {\n",
       "        vertical-align: top;\n",
       "    }\n",
       "\n",
       "    .dataframe thead th {\n",
       "        text-align: right;\n",
       "    }\n",
       "</style>\n",
       "<table border=\"1\" class=\"dataframe\">\n",
       "  <thead>\n",
       "    <tr style=\"text-align: right;\">\n",
       "      <th>grade</th>\n",
       "      <th>10th</th>\n",
       "      <th>11th</th>\n",
       "      <th>12th</th>\n",
       "      <th>9th</th>\n",
       "    </tr>\n",
       "    <tr>\n",
       "      <th>school_name</th>\n",
       "      <th></th>\n",
       "      <th></th>\n",
       "      <th></th>\n",
       "      <th></th>\n",
       "    </tr>\n",
       "  </thead>\n",
       "  <tbody>\n",
       "    <tr>\n",
       "      <th>Bailey High School</th>\n",
       "      <td>80.907183</td>\n",
       "      <td>80.945643</td>\n",
       "      <td>80.912451</td>\n",
       "      <td>81.303155</td>\n",
       "    </tr>\n",
       "    <tr>\n",
       "      <th>Cabrera High School</th>\n",
       "      <td>84.253219</td>\n",
       "      <td>83.788382</td>\n",
       "      <td>84.287958</td>\n",
       "      <td>83.676136</td>\n",
       "    </tr>\n",
       "    <tr>\n",
       "      <th>Figueroa High School</th>\n",
       "      <td>81.408912</td>\n",
       "      <td>80.640339</td>\n",
       "      <td>81.384863</td>\n",
       "      <td>81.198598</td>\n",
       "    </tr>\n",
       "    <tr>\n",
       "      <th>Ford High School</th>\n",
       "      <td>81.262712</td>\n",
       "      <td>80.403642</td>\n",
       "      <td>80.662338</td>\n",
       "      <td>80.632653</td>\n",
       "    </tr>\n",
       "    <tr>\n",
       "      <th>Griffin High School</th>\n",
       "      <td>83.706897</td>\n",
       "      <td>84.288089</td>\n",
       "      <td>84.013699</td>\n",
       "      <td>83.369193</td>\n",
       "    </tr>\n",
       "    <tr>\n",
       "      <th>Hernandez High School</th>\n",
       "      <td>80.660147</td>\n",
       "      <td>81.396140</td>\n",
       "      <td>80.857143</td>\n",
       "      <td>80.866860</td>\n",
       "    </tr>\n",
       "    <tr>\n",
       "      <th>Holden High School</th>\n",
       "      <td>83.324561</td>\n",
       "      <td>83.815534</td>\n",
       "      <td>84.698795</td>\n",
       "      <td>83.677165</td>\n",
       "    </tr>\n",
       "    <tr>\n",
       "      <th>Huang High School</th>\n",
       "      <td>81.512386</td>\n",
       "      <td>81.417476</td>\n",
       "      <td>80.305983</td>\n",
       "      <td>81.290284</td>\n",
       "    </tr>\n",
       "    <tr>\n",
       "      <th>Johnson High School</th>\n",
       "      <td>80.773431</td>\n",
       "      <td>80.616027</td>\n",
       "      <td>81.227564</td>\n",
       "      <td>81.260714</td>\n",
       "    </tr>\n",
       "    <tr>\n",
       "      <th>Pena High School</th>\n",
       "      <td>83.612000</td>\n",
       "      <td>84.335938</td>\n",
       "      <td>84.591160</td>\n",
       "      <td>83.807273</td>\n",
       "    </tr>\n",
       "    <tr>\n",
       "      <th>Rodriguez High School</th>\n",
       "      <td>80.629808</td>\n",
       "      <td>80.864811</td>\n",
       "      <td>80.376426</td>\n",
       "      <td>80.993127</td>\n",
       "    </tr>\n",
       "    <tr>\n",
       "      <th>Shelton High School</th>\n",
       "      <td>83.441964</td>\n",
       "      <td>84.373786</td>\n",
       "      <td>82.781671</td>\n",
       "      <td>84.122642</td>\n",
       "    </tr>\n",
       "    <tr>\n",
       "      <th>Thomas High School</th>\n",
       "      <td>84.254157</td>\n",
       "      <td>83.585542</td>\n",
       "      <td>83.831361</td>\n",
       "      <td>83.728850</td>\n",
       "    </tr>\n",
       "    <tr>\n",
       "      <th>Wilson High School</th>\n",
       "      <td>84.021452</td>\n",
       "      <td>83.764608</td>\n",
       "      <td>84.317673</td>\n",
       "      <td>83.939778</td>\n",
       "    </tr>\n",
       "    <tr>\n",
       "      <th>Wright High School</th>\n",
       "      <td>83.812757</td>\n",
       "      <td>84.156322</td>\n",
       "      <td>84.073171</td>\n",
       "      <td>83.833333</td>\n",
       "    </tr>\n",
       "  </tbody>\n",
       "</table>\n",
       "</div>"
      ],
      "text/plain": [
       "grade                       10th       11th       12th        9th\n",
       "school_name                                                      \n",
       "Bailey High School     80.907183  80.945643  80.912451  81.303155\n",
       "Cabrera High School    84.253219  83.788382  84.287958  83.676136\n",
       "Figueroa High School   81.408912  80.640339  81.384863  81.198598\n",
       "Ford High School       81.262712  80.403642  80.662338  80.632653\n",
       "Griffin High School    83.706897  84.288089  84.013699  83.369193\n",
       "Hernandez High School  80.660147  81.396140  80.857143  80.866860\n",
       "Holden High School     83.324561  83.815534  84.698795  83.677165\n",
       "Huang High School      81.512386  81.417476  80.305983  81.290284\n",
       "Johnson High School    80.773431  80.616027  81.227564  81.260714\n",
       "Pena High School       83.612000  84.335938  84.591160  83.807273\n",
       "Rodriguez High School  80.629808  80.864811  80.376426  80.993127\n",
       "Shelton High School    83.441964  84.373786  82.781671  84.122642\n",
       "Thomas High School     84.254157  83.585542  83.831361  83.728850\n",
       "Wilson High School     84.021452  83.764608  84.317673  83.939778\n",
       "Wright High School     83.812757  84.156322  84.073171  83.833333"
      ]
     },
     "execution_count": 65,
     "metadata": {},
     "output_type": "execute_result"
    }
   ],
   "source": [
    "# Create table that lists the average reading score for each school of each grade level\n",
    "reading_by_grade = school_data_complete.pivot_table(index=\"school_name\", columns=\"grade\", values=\"reading_score\")\n",
    "reading_by_grade\n"
   ]
  },
  {
   "cell_type": "code",
   "execution_count": 69,
   "id": "5b580977-37cd-409c-bc1e-06840c70d1ae",
   "metadata": {},
   "outputs": [],
   "source": [
    "# Sample bins. Feel free to create your own bins.\n",
    "spending_bins = [0, 585, 615, 645, 675]\n",
    "group_names = [\"<$585\", \"$585-615\", \"$615-645\", \"$645-675\"]"
   ]
  },
  {
   "cell_type": "code",
   "execution_count": 71,
   "id": "c2fbb06e-a282-4b87-9dfa-04dadb43fa19",
   "metadata": {},
   "outputs": [],
   "source": [
    "# Create a new column to show budget per student in each row\n",
    "school_data_complete[\"Per Student Budget\"] = school_data_complete[\"budget\"] / school_data_complete[\"size\"]"
   ]
  },
  {
   "cell_type": "code",
   "execution_count": 73,
   "id": "b0084887-f127-46a6-bade-243b586c6dce",
   "metadata": {},
   "outputs": [],
   "source": [
    "# Create a new column to define the spending ranges per student\n",
    "school_data_complete[\"Spending Ranges (Per Student)\"] = pd.cut(school_data_complete[\"Per Student Budget\"], spending_bins, labels=group_names)"
   ]
  },
  {
   "cell_type": "code",
   "execution_count": 77,
   "id": "739afaa5-f60e-4025-b3b7-0316ca470099",
   "metadata": {},
   "outputs": [],
   "source": [
    "# Calculate the average math score within each spending range\n",
    "spending_math_score = school_data_complete.groupby(\"Spending Ranges (Per Student)\", observed=True)[\"math_score\"].mean()"
   ]
  },
  {
   "cell_type": "code",
   "execution_count": 83,
   "id": "3b451105-f272-4dbd-8b9f-5dbff44e60d6",
   "metadata": {},
   "outputs": [
    {
     "data": {
      "text/plain": [
       "School Size\n",
       "Large (2000-5000)     29259\n",
       "Medium (1000-2000)     8522\n",
       "Small (<1000)          1389\n",
       "Name: count, dtype: int64"
      ]
     },
     "execution_count": 83,
     "metadata": {},
     "output_type": "execute_result"
    }
   ],
   "source": [
    "# Calculate the percentage passing rate for math in each spending range\n",
    "spending_math_passing = school_data_complete[school_data_complete[\"math_score\"] >= 70] \\\n",
    "    .groupby(\"Spending Ranges (Per Student)\", observed=True)[\"math_score\"].count() / \\\n",
    "    school_data_complete.groupby(\"Spending Ranges (Per Student)\", observed=True)[\"math_score\"].count() * 100\n",
    "\n",
    "# Calculate the percentage passing rate for reading in each spending range\n",
    "spending_read_passing = school_data_complete[school_data_complete[\"reading_score\"] >= 70] \\\n",
    "    .groupby(\"Spending Ranges (Per Student)\", observed=True)[\"reading_score\"].count() / \\\n",
    "    school_data_complete.groupby(\"Spending Ranges (Per Student)\", observed=True)[\"reading_score\"].count() * 100\n",
    "\n",
    "# Calculate the percentage overall passing rate in each spending range\n",
    "spending_overall_passing = (spending_math_passing + spending_read_passing) / 2\n",
    "\n",
    "# Sample bins. Feel free to create your own bins.\n",
    "size_bins = [0, 1000, 2000, 5000]\n",
    "group_names = [\"Small (<1000)\", \"Medium (1000-2000)\", \"Large (2000-5000)\"]\n",
    "\n",
    "# Create a new column for the bin groups\n",
    "school_data_complete[\"School Size\"] = pd.cut(school_data_complete[\"size\"], size_bins, labels=group_names)\n",
    "school_data_complete[\"School Size\"].value_counts()"
   ]
  },
  {
   "cell_type": "code",
   "execution_count": 85,
   "id": "d203bc83-f8c5-4adf-840a-76855022de2e",
   "metadata": {},
   "outputs": [
    {
     "data": {
      "text/plain": [
       "School Size\n",
       "Small (<1000)         93.952484\n",
       "Medium (1000-2000)    93.616522\n",
       "Large (2000-5000)     68.652380\n",
       "Name: Student ID, dtype: float64"
      ]
     },
     "execution_count": 85,
     "metadata": {},
     "output_type": "execute_result"
    }
   ],
   "source": [
    "# math_pass_size\n",
    "math_pass_size = school_data_complete[school_data_complete[\"math_score\"] >= 70] \\\n",
    "    .groupby(\"School Size\", observed=True)[\"Student ID\"].count() / \\\n",
    "    school_data_complete.groupby(\"School Size\", observed=True)[\"Student ID\"].count() * 100\n",
    "math_pass_size"
   ]
  },
  {
   "cell_type": "code",
   "execution_count": 87,
   "id": "32cdf0cd-bd6d-4996-b130-36b1dd69ed83",
   "metadata": {},
   "outputs": [
    {
     "data": {
      "text/plain": [
       "School Size\n",
       "Small (<1000)         96.040317\n",
       "Medium (1000-2000)    96.773058\n",
       "Large (2000-5000)     82.125158\n",
       "Name: Student ID, dtype: float64"
      ]
     },
     "execution_count": 87,
     "metadata": {},
     "output_type": "execute_result"
    }
   ],
   "source": [
    "# read_pass_size\n",
    "read_pass_size = school_data_complete[school_data_complete[\"reading_score\"] >= 70] \\\n",
    "    .groupby(\"School Size\", observed=True)[\"Student ID\"].count() / \\\n",
    "    school_data_complete.groupby(\"School Size\", observed=True)[\"Student ID\"].count() * 100\n",
    "read_pass_size"
   ]
  },
  {
   "cell_type": "code",
   "execution_count": 89,
   "id": "39fdc67a-8cf5-44d5-9984-5b098c9aa8a1",
   "metadata": {},
   "outputs": [
    {
     "data": {
      "text/plain": [
       "School Size\n",
       "Small (<1000)         94.996400\n",
       "Medium (1000-2000)    95.194790\n",
       "Large (2000-5000)     75.388769\n",
       "Name: Student ID, dtype: float64"
      ]
     },
     "execution_count": 89,
     "metadata": {},
     "output_type": "execute_result"
    }
   ],
   "source": [
    "# Calculate the overall passing rate for different school size\n",
    "overall_pass_size = (math_pass_size + read_pass_size) / 2\n",
    "overall_pass_size"
   ]
  },
  {
   "cell_type": "code",
   "execution_count": 91,
   "id": "7a995a9e-3ed4-4bae-aa72-e2861b6b7822",
   "metadata": {},
   "outputs": [
    {
     "data": {
      "text/plain": [
       "type\n",
       "Charter     93.701821\n",
       "District    66.518387\n",
       "Name: Student ID, dtype: float64"
      ]
     },
     "execution_count": 91,
     "metadata": {},
     "output_type": "execute_result"
    }
   ],
   "source": [
    "# math_pass_type\n",
    "math_pass_type = school_data_complete[school_data_complete[\"math_score\"] >= 70] \\\n",
    "    .groupby(\"type\", observed=True)[\"Student ID\"].count() / \\\n",
    "    school_data_complete.groupby(\"type\", observed=True)[\"Student ID\"].count() * 100\n",
    "math_pass_type"
   ]
  },
  {
   "cell_type": "code",
   "execution_count": 93,
   "id": "fe045ead-7e7d-47a0-bafe-3562c5d4986e",
   "metadata": {},
   "outputs": [
    {
     "data": {
      "text/plain": [
       "type\n",
       "Charter     96.645891\n",
       "District    80.905249\n",
       "Name: Student ID, dtype: float64"
      ]
     },
     "execution_count": 93,
     "metadata": {},
     "output_type": "execute_result"
    }
   ],
   "source": [
    "# read_pass_type\n",
    "read_pass_type = school_data_complete[school_data_complete[\"reading_score\"] >= 70] \\\n",
    "    .groupby(\"type\", observed=True)[\"Student ID\"].count() / \\\n",
    "    school_data_complete.groupby(\"type\", observed=True)[\"Student ID\"].count() * 100\n",
    "read_pass_type"
   ]
  },
  {
   "cell_type": "code",
   "execution_count": 95,
   "id": "4f8126cf-aee8-4b5e-bf70-032281f6fa20",
   "metadata": {},
   "outputs": [
    {
     "data": {
      "text/plain": [
       "type\n",
       "Charter     95.173856\n",
       "District    73.711818\n",
       "Name: Student ID, dtype: float64"
      ]
     },
     "execution_count": 95,
     "metadata": {},
     "output_type": "execute_result"
    }
   ],
   "source": [
    "# overall_pass_type\n",
    "overall_pass_type = (math_pass_type + read_pass_type) / 2\n",
    "overall_pass_type"
   ]
  },
  {
   "cell_type": "code",
   "execution_count": null,
   "id": "e5393ddf-ba9d-4103-b331-a5a8189d850c",
   "metadata": {},
   "outputs": [],
   "source": []
  }
 ],
 "metadata": {
  "kernelspec": {
   "display_name": "Python 3 (ipykernel)",
   "language": "python",
   "name": "python3"
  },
  "language_info": {
   "codemirror_mode": {
    "name": "ipython",
    "version": 3
   },
   "file_extension": ".py",
   "mimetype": "text/x-python",
   "name": "python",
   "nbconvert_exporter": "python",
   "pygments_lexer": "ipython3",
   "version": "3.12.7"
  }
 },
 "nbformat": 4,
 "nbformat_minor": 5
}
