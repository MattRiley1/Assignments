{
 "cells": [
  {
   "cell_type": "code",
   "execution_count": 1,
   "id": "719a8f7f-8462-4e2c-94bf-a901966f22fd",
   "metadata": {},
   "outputs": [],
   "source": [
    "# Run this cell without changes\n",
    "main = \"rice\"\n",
    "protein = \"salmon\"\n",
    "oz_of_protein = 4.5\n",
    "number_of_sides = 3\n",
    "side1 = 'seaweed'\n",
    "side2 = 'onigiri'\n",
    "side3 = 'turnip pickle'\n",
    "great_bento = True"
   ]
  },
  {
   "cell_type": "code",
   "execution_count": 2,
   "id": "c1cfe89e-a101-4eed-a8cf-b9c92099050f",
   "metadata": {},
   "outputs": [],
   "source": [
    "protein = \"ginger chicken\""
   ]
  },
  {
   "cell_type": "code",
   "execution_count": 3,
   "id": "e7393633-6cad-4d26-9541-567753a9f055",
   "metadata": {},
   "outputs": [],
   "source": [
    "oz_of_protein = 3.5"
   ]
  },
  {
   "cell_type": "code",
   "execution_count": 4,
   "id": "624bd8e8-6006-4367-9de9-be132161e891",
   "metadata": {},
   "outputs": [],
   "source": [
    "side1, side2, side3 = \"carrots\", \"kimchi\", \"mushrooms\""
   ]
  },
  {
   "cell_type": "code",
   "execution_count": 5,
   "id": "f179efd9-d5f4-4986-83b4-6c9afcd3a795",
   "metadata": {},
   "outputs": [
    {
     "name": "stdout",
     "output_type": "stream",
     "text": [
      "ginger chicken 3.5 carrots kimchi mushrooms\n"
     ]
    }
   ],
   "source": [
    "print (protein, oz_of_protein, side1, side2, side3)"
   ]
  },
  {
   "cell_type": "code",
   "execution_count": 6,
   "id": "6e9b7ea1-5959-421d-8a75-635dee0423d0",
   "metadata": {},
   "outputs": [
    {
     "data": {
      "text/plain": [
       "str"
      ]
     },
     "execution_count": 6,
     "metadata": {},
     "output_type": "execute_result"
    }
   ],
   "source": [
    "type(side1)"
   ]
  },
  {
   "cell_type": "code",
   "execution_count": 7,
   "id": "f70c15a4-a5dc-4c5f-9245-e3afc85f64bc",
   "metadata": {},
   "outputs": [
    {
     "name": "stdout",
     "output_type": "stream",
     "text": [
      "no carbs, please!\n"
     ]
    }
   ],
   "source": [
    "# Run this cell without changes\n",
    "if (main == 'rice'):\n",
    "    print(\"no carbs, please!\")\n",
    "elif(oz_of_protein >= 2.5):\n",
    "    print(\"too much!\")\n",
    "else:\n",
    "    print(\"I will like this bento box!\")"
   ]
  },
  {
   "cell_type": "code",
   "execution_count": 8,
   "id": "06852eec-19eb-472c-98eb-59300c65645d",
   "metadata": {},
   "outputs": [],
   "source": [
    "# Run this cell without changes\n",
    "if (main == 'rice'):\n",
    "    great_bento = True\n",
    "elif(oz_of_protein >= 2.5):\n",
    "    great_bento = True\n",
    "else:\n",
    "    great_bento = False"
   ]
  },
  {
   "cell_type": "code",
   "execution_count": 9,
   "id": "77ed5b6f-27bd-42c8-8058-067f5d0876c3",
   "metadata": {},
   "outputs": [
    {
     "name": "stdout",
     "output_type": "stream",
     "text": [
      "True\n"
     ]
    }
   ],
   "source": [
    "print(great_bento)"
   ]
  },
  {
   "cell_type": "code",
   "execution_count": 10,
   "id": "6fe4e410-8a07-4468-b7b7-c2a6f2358adc",
   "metadata": {},
   "outputs": [],
   "source": [
    "bento_ingredients = [\"rice\", \"ginger chicken\", \"carrots\", \"kimchi\", \"mushrooms\"]"
   ]
  },
  {
   "cell_type": "code",
   "execution_count": 11,
   "id": "083e754d-8db4-467b-828a-1de52108ff07",
   "metadata": {},
   "outputs": [
    {
     "data": {
      "text/plain": [
       "'mushrooms'"
      ]
     },
     "execution_count": 11,
     "metadata": {},
     "output_type": "execute_result"
    }
   ],
   "source": [
    "bento_ingredients [4]"
   ]
  },
  {
   "cell_type": "code",
   "execution_count": 12,
   "id": "9f990195-61ea-49ba-a787-17c36d92134b",
   "metadata": {},
   "outputs": [
    {
     "data": {
      "text/plain": [
       "['carrots', 'kimchi', 'mushrooms']"
      ]
     },
     "execution_count": 12,
     "metadata": {},
     "output_type": "execute_result"
    }
   ],
   "source": [
    "bento_ingredients[2:5]"
   ]
  },
  {
   "cell_type": "code",
   "execution_count": 13,
   "id": "ca55acce-b486-4da6-b694-d6db76dc69a1",
   "metadata": {},
   "outputs": [],
   "source": [
    "bento_ingredients.append(\"salmon\")"
   ]
  },
  {
   "cell_type": "code",
   "execution_count": 14,
   "id": "92b91bc3-4495-4656-87c6-bea4043e172a",
   "metadata": {},
   "outputs": [
    {
     "name": "stdout",
     "output_type": "stream",
     "text": [
      "['rice', 'ginger chicken', 'carrots', 'kimchi', 'mushrooms', 'salmon']\n"
     ]
    }
   ],
   "source": [
    "print(bento_ingredients)"
   ]
  },
  {
   "cell_type": "code",
   "execution_count": 15,
   "id": "262f378c-4c2a-4c85-a3be-fb06ccd98e3b",
   "metadata": {},
   "outputs": [],
   "source": [
    "bento_ingredients.remove(\"salmon\")"
   ]
  },
  {
   "cell_type": "code",
   "execution_count": 16,
   "id": "01828669-ed12-4b69-838c-ca09ac663aae",
   "metadata": {},
   "outputs": [
    {
     "ename": "ValueError",
     "evalue": "list.remove(x): x not in list",
     "output_type": "error",
     "traceback": [
      "\u001b[1;31m---------------------------------------------------------------------------\u001b[0m",
      "\u001b[1;31mValueError\u001b[0m                                Traceback (most recent call last)",
      "Cell \u001b[1;32mIn[16], line 1\u001b[0m\n\u001b[1;32m----> 1\u001b[0m bento_ingredients\u001b[38;5;241m.\u001b[39mremove(\u001b[38;5;124m\"\u001b[39m\u001b[38;5;124msalmon\u001b[39m\u001b[38;5;124m\"\u001b[39m)\n",
      "\u001b[1;31mValueError\u001b[0m: list.remove(x): x not in list"
     ]
    }
   ],
   "source": [
    "bento_ingredients.remove(\"salmon\")"
   ]
  },
  {
   "cell_type": "code",
   "execution_count": null,
   "id": "1bdf045f-0635-4e40-b666-830fe9f9084f",
   "metadata": {},
   "outputs": [],
   "source": [
    "print(bento_ingredients)"
   ]
  },
  {
   "cell_type": "code",
   "execution_count": null,
   "id": "9a0b871f-d0fc-4bea-a69f-28a52353f172",
   "metadata": {},
   "outputs": [],
   "source": [
    "bento_ingredients.pop(4)"
   ]
  },
  {
   "cell_type": "code",
   "execution_count": null,
   "id": "c805df21-e2ff-4a33-99e6-ca154606e2ed",
   "metadata": {},
   "outputs": [],
   "source": [
    "print(bento_ingredients)"
   ]
  },
  {
   "cell_type": "code",
   "execution_count": null,
   "id": "96047016-9ad4-4633-a6f8-4ccbfc789b3f",
   "metadata": {},
   "outputs": [],
   "source": [
    "bento_ingredients.append(\"mushrooms\")"
   ]
  },
  {
   "cell_type": "code",
   "execution_count": null,
   "id": "2256e7da-23d2-4c8c-8e74-2c2c46633037",
   "metadata": {},
   "outputs": [],
   "source": [
    "# Run this cell without changes\n",
    "print(\"I'd like my bento box to contain: \" +\n",
    "      \", \".join(bento_ingredients[:-1]) + \", and \" + bento_ingredients[-1])"
   ]
  },
  {
   "cell_type": "code",
   "execution_count": null,
   "id": "7d993e17-50c8-40d4-a2a5-36ee550fcd05",
   "metadata": {},
   "outputs": [],
   "source": [
    "# Run this cell without changes\n",
    "print(f\"My bento box will include {bento_ingredients[0]} and {bento_ingredients[1]}.\")"
   ]
  },
  {
   "cell_type": "code",
   "execution_count": null,
   "id": "1048bdde-7e2b-41e0-889b-43a5846ace44",
   "metadata": {},
   "outputs": [],
   "source": [
    "# The above cell is the same as:\n",
    "print(\"My bento box will include {} and {}.\".format(bento_ingredients[0], bento_ingredients[1]))"
   ]
  },
  {
   "cell_type": "code",
   "execution_count": 25,
   "id": "5d6f9d58-bb3f-4302-9fed-a9089acdbad4",
   "metadata": {},
   "outputs": [
    {
     "name": "stdout",
     "output_type": "stream",
     "text": [
      "{'main': 'rice', 'protein': 'fried chicken', 'side1': 'tempura', 'side2': 'miso soup', 'side3': 'salad'}\n",
      "<class 'dict'>\n"
     ]
    }
   ],
   "source": [
    "# Here's an example of zipping two lists together to form a dictionary\n",
    "bento_keys = [\"main\", \"protein\", \"side1\", \"side2\", \"side3\"]\n",
    "bento_values = [\"rice\", \"fried chicken\", \"tempura\", \"miso soup\", \"salad\"]\n",
    "\n",
    "bento_dict = dict(zip(bento_keys, bento_values))\n",
    "\n",
    "print(bento_dict)\n",
    "print(type(bento_dict))"
   ]
  },
  {
   "cell_type": "code",
   "execution_count": 27,
   "id": "1df0ff70-f89c-46d2-af02-f52eb8bd7dc6",
   "metadata": {},
   "outputs": [],
   "source": [
    "bento_dict2 = {'main': 'rice', 'protein': 'ginger chicken', 'side1': 'cucumber', 'side2': 'miso soup', 'side3': 'pot stickers'}"
   ]
  },
  {
   "cell_type": "code",
   "execution_count": 29,
   "id": "bd555e02-7490-41df-9412-dae6d125a482",
   "metadata": {},
   "outputs": [],
   "source": [
    "bento_dict3 = {'main': 'rice',\n",
    " 'protein': 'ginger chicken',\n",
    " 'side1': 'kimchi',\n",
    " 'side2': 'carrots',\n",
    " 'side3': 'garlic mushrooms'}"
   ]
  },
  {
   "cell_type": "code",
   "execution_count": 31,
   "id": "4a39cee6-72be-448e-b319-642108e4d1ab",
   "metadata": {},
   "outputs": [],
   "source": [
    "bento_dicts = [bento_dict, bento_dict2, bento_dict3]"
   ]
  },
  {
   "cell_type": "code",
   "execution_count": 33,
   "id": "60383e30-79e2-446d-989d-25af2b99e986",
   "metadata": {},
   "outputs": [
    {
     "name": "stdout",
     "output_type": "stream",
     "text": [
      "[{'main': 'rice', 'protein': 'fried chicken', 'side1': 'tempura', 'side2': 'miso soup', 'side3': 'salad'}, {'main': 'rice', 'protein': 'ginger chicken', 'side1': 'cucumber', 'side2': 'miso soup', 'side3': 'pot stickers'}, {'main': 'rice', 'protein': 'ginger chicken', 'side1': 'kimchi', 'side2': 'carrots', 'side3': 'garlic mushrooms'}]\n",
      "<class 'list'>\n"
     ]
    }
   ],
   "source": [
    "print(bento_dicts)\n",
    "print(type(bento_dicts))"
   ]
  },
  {
   "cell_type": "code",
   "execution_count": 35,
   "id": "2ed35629-f57c-4778-9625-1e33add23cb4",
   "metadata": {},
   "outputs": [
    {
     "name": "stdout",
     "output_type": "stream",
     "text": [
      "{'Myself': {'main': 'rice', 'protein': 'fried chicken', 'side1': 'tempura', 'side2': 'miso soup', 'side3': 'salad'}, 'Shaun': {'main': 'rice', 'protein': 'ginger chicken', 'side1': 'cucumber', 'side2': 'miso soup', 'side3': 'pot stickers'}, 'Saajay': {'main': 'rice', 'protein': 'ginger chicken', 'side1': 'kimchi', 'side2': 'carrots', 'side3': 'garlic mushrooms'}}\n",
      "<class 'dict'>\n"
     ]
    }
   ],
   "source": [
    "order_keys = [\"Myself\",\"Shaun\", \"Saajay\"]\n",
    "order_values = [bento_dict, bento_dict2, bento_dict3]\n",
    "\n",
    "order_dict = dict(zip(order_keys, order_values))\n",
    "\n",
    "print(order_dict)\n",
    "print(type(order_dict))"
   ]
  },
  {
   "cell_type": "code",
   "execution_count": 39,
   "id": "ff514bd9-9413-4534-a060-ecf8b6b48b7b",
   "metadata": {},
   "outputs": [
    {
     "data": {
      "text/plain": [
       "{'main': 'rice',\n",
       " 'protein': 'ginger chicken',\n",
       " 'side1': 'cucumber',\n",
       " 'side2': 'miso soup',\n",
       " 'side3': 'pot stickers'}"
      ]
     },
     "execution_count": 39,
     "metadata": {},
     "output_type": "execute_result"
    }
   ],
   "source": [
    "order_dict['Shaun']"
   ]
  },
  {
   "cell_type": "code",
   "execution_count": 49,
   "id": "65f04aa4-ad2f-4dee-abbb-ca5bc4c41405",
   "metadata": {},
   "outputs": [
    {
     "name": "stdout",
     "output_type": "stream",
     "text": [
      "Myself Shaun Saajay\n"
     ]
    }
   ],
   "source": [
    "print(*order_dict.keys())"
   ]
  },
  {
   "cell_type": "code",
   "execution_count": 51,
   "id": "141f6b2a-fa6e-44a7-82ae-ef0298509d60",
   "metadata": {},
   "outputs": [
    {
     "name": "stdout",
     "output_type": "stream",
     "text": [
      "Myself's main ingredient is rice\n",
      "Shaun's main ingredient is rice\n",
      "Saajay's main ingredient is rice\n"
     ]
    }
   ],
   "source": [
    "for name in order_dict:  # Loop through each person in the order dictionary\n",
    "    print(f\"{name}'s main ingredient is {order_dict[name]['main']}\")\n"
   ]
  },
  {
   "cell_type": "code",
   "execution_count": 53,
   "id": "41d3a0e6-8c60-41cd-b6e3-f99d0f417ab6",
   "metadata": {},
   "outputs": [
    {
     "name": "stdout",
     "output_type": "stream",
     "text": [
      "[('Myself', 'fried chicken'), ('Shaun', 'ginger chicken'), ('Saajay', 'ginger chicken')]\n",
      "<class 'list'>\n"
     ]
    }
   ],
   "source": [
    "protein_tuples = []\n",
    "for name in order_dict:  # Step 2: Loop through each person's name\n",
    "    protein_tuples.append((name, order_dict[name]['protein']))  # Step 3: Add a tuple to the list\n",
    "\n",
    "print(protein_tuples)\n",
    "print(type(protein_tuples))"
   ]
  },
  {
   "cell_type": "code",
   "execution_count": 55,
   "id": "7eaae6f2-9171-41f6-bf17-9fb92c045629",
   "metadata": {},
   "outputs": [
    {
     "name": "stdout",
     "output_type": "stream",
     "text": [
      "Myself ordered a bento box with rice as the main, fried chicken for protein, and sides: tempura, miso soup, and salad.\n",
      "Shaun ordered a bento box with rice as the main, ginger chicken for protein, and sides: cucumber, miso soup, and pot stickers.\n",
      "Saajay ordered a bento box with rice as the main, ginger chicken for protein, and sides: kimchi, carrots, and garlic mushrooms.\n"
     ]
    }
   ],
   "source": [
    "for name, order in order_dict.items():\n",
    "    print(f\"{name} ordered a bento box with {order['main']} as the main, {order['protein']} for protein, and sides: {order['side1']}, {order['side2']}, and {order['side3']}.\")\n"
   ]
  },
  {
   "cell_type": "code",
   "execution_count": null,
   "id": "210139fd-1718-4158-bf06-3ae38798408d",
   "metadata": {},
   "outputs": [],
   "source": []
  }
 ],
 "metadata": {
  "kernelspec": {
   "display_name": "Python [conda env:base] *",
   "language": "python",
   "name": "conda-base-py"
  },
  "language_info": {
   "codemirror_mode": {
    "name": "ipython",
    "version": 3
   },
   "file_extension": ".py",
   "mimetype": "text/x-python",
   "name": "python",
   "nbconvert_exporter": "python",
   "pygments_lexer": "ipython3",
   "version": "3.12.7"
  }
 },
 "nbformat": 4,
 "nbformat_minor": 5
}
